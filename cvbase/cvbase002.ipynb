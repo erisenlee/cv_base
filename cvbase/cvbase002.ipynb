{
 "cells": [
  {
   "cell_type": "code",
   "execution_count": 2,
   "metadata": {},
   "outputs": [],
   "source": [
    "import cv2\n",
    "import numpy"
   ]
  },
  {
   "cell_type": "code",
   "execution_count": 14,
   "metadata": {
    "scrolled": true
   },
   "outputs": [],
   "source": [
    "class CaptureManager:\n",
    "    def __init__(self, capture, previewWindown=None, mirror=False):\n",
    "        self.previewWindownManager = previewWindown\n",
    "        self.shouldMirrorPreview = mirror\n",
    "        \n",
    "        self._capture = capture\n",
    "        self._channel = 0\n",
    "        self._entered_frame = False\n",
    "        \n",
    "        self._frame = None\n",
    "        \n",
    "    @property\n",
    "    def channel(self):\n",
    "        return self._channel\n",
    "    \n",
    "    @channel.setter\n",
    "    def channel(self, value):\n",
    "        if self._channel != value:\n",
    "            self._channel = value\n",
    "    @property        \n",
    "    def frame(self):\n",
    "        if self._entered_frame and self._frame is None:\n",
    "            _, self._frame = self._capture.retrieve()\n",
    "        return self._frame\n",
    "    \n",
    "    def enter_frame(self):\n",
    "        assert not self._entered_frame, ''\n",
    "        if self._capture is not None:\n",
    "            self._entered_frame = self._capture.grab()\n",
    "            \n",
    "    def exit_frame(self):\n",
    "        if self._frame is None:\n",
    "            self._entered_frame = False\n",
    "            return\n",
    "        self._write_video_frame()\n",
    "        self._frame = None\n",
    "        self._entered_frame = None\n",
    "        \n",
    "        "
   ]
  },
  {
   "cell_type": "code",
   "execution_count": 5,
   "metadata": {},
   "outputs": [],
   "source": [
    "capma = CaptureManager('capture')"
   ]
  },
  {
   "cell_type": "code",
   "execution_count": 3,
   "metadata": {},
   "outputs": [
    {
     "data": {
      "text/plain": [
       "0"
      ]
     },
     "execution_count": 3,
     "metadata": {},
     "output_type": "execute_result"
    }
   ],
   "source": [
    "numpy.long(0)"
   ]
  },
  {
   "cell_type": "code",
   "execution_count": null,
   "metadata": {},
   "outputs": [],
   "source": []
  },
  {
   "cell_type": "code",
   "execution_count": null,
   "metadata": {},
   "outputs": [],
   "source": []
  }
 ],
 "metadata": {
  "kernelspec": {
   "display_name": "Python 3",
   "language": "python",
   "name": "python3"
  },
  "language_info": {
   "codemirror_mode": {
    "name": "ipython",
    "version": 3
   },
   "file_extension": ".py",
   "mimetype": "text/x-python",
   "name": "python",
   "nbconvert_exporter": "python",
   "pygments_lexer": "ipython3",
   "version": "3.7.5"
  }
 },
 "nbformat": 4,
 "nbformat_minor": 2
}
